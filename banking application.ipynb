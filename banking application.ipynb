{
 "cells": [
  {
   "cell_type": "code",
   "execution_count": null,
   "id": "eb66c8c4",
   "metadata": {},
   "outputs": [
    {
     "name": "stdout",
     "output_type": "stream",
     "text": [
      "Current Balance: $0.00\n"
     ]
    }
   ],
   "source": [
    "def get_current_balance():\n",
    "    try:\n",
    "        with open(\"Bank Data.txt\", \"r\") as file:\n",
    "            balance = float(file.readline())\n",
    "            return balance\n",
    "    except FileNotFoundError:\n",
    "        # If Bank Data.txt doesn't exist, set the balance to 0.\n",
    "        return 0.0\n",
    "\n",
    "\n",
    "def update_balance(amount):\n",
    "    current_balance = get_current_balance()\n",
    "    new_balance = current_balance + amount\n",
    "    with open(\"Bank Data.txt\", \"w\") as file:\n",
    "        file.write(str(new_balance))\n",
    "\n",
    "\n",
    "def log_transaction(transaction_type, amount):\n",
    "    with open(\"Transaction Log.txt\", \"a\") as file:\n",
    "        file.write(f\"{transaction_type}: {amount}\\n\")\n",
    "\n",
    "\n",
    "def make_transaction():\n",
    "    print(\"Current Balance: ${:.2f}\".format(get_current_balance()))\n",
    "    transaction_choice = input(\"Would you like to make a transaction? (Yes or No): \").lower()\n",
    "    if transaction_choice == \"yes\":\n",
    "        transaction_type = input(\"Would you like to make a deposit or withdrawal? (Deposit or Withdraw): \").lower()\n",
    "        if transaction_type not in [\"deposit\", \"withdraw\"]:\n",
    "            print(\"You provided an invalid input.\")\n",
    "            return\n",
    "\n",
    "        amount = float(input(f\"How much would you like to {transaction_type}? \"))\n",
    "        if amount <= 0:\n",
    "            print(\"Invalid amount. Please enter a positive number.\")\n",
    "            return\n",
    "\n",
    "        if transaction_type == \"deposit\":\n",
    "            update_balance(amount)\n",
    "            log_transaction(\"Deposit\", amount)\n",
    "        else:\n",
    "            current_balance = get_current_balance()\n",
    "            if amount <= current_balance:\n",
    "                update_balance(-amount)\n",
    "                log_transaction(\"Withdrawal\", amount)\n",
    "            else:\n",
    "                print(\"Insufficient funds. Cannot withdraw more than the current balance.\")\n",
    "                return\n",
    "\n",
    "        print(\"Transaction successful.\")\n",
    "        print(\"Current Balance: ${:.2f}\".format(get_current_balance()))\n",
    "    elif transaction_choice == \"no\":\n",
    "        print(\"Thank you. Have a nice day!\")\n",
    "    else:\n",
    "        print(\"You provided an invalid input.\")\n",
    "\n",
    "\n",
    "if __name__ == \"__main__\":\n",
    "    make_transaction()\n"
   ]
  },
  {
   "cell_type": "code",
   "execution_count": null,
   "id": "0253ef1b",
   "metadata": {},
   "outputs": [],
   "source": [
    ".\n"
   ]
  }
 ],
 "metadata": {
  "kernelspec": {
   "display_name": "Python 3 (ipykernel)",
   "language": "python",
   "name": "python3"
  },
  "language_info": {
   "codemirror_mode": {
    "name": "ipython",
    "version": 3
   },
   "file_extension": ".py",
   "mimetype": "text/x-python",
   "name": "python",
   "nbconvert_exporter": "python",
   "pygments_lexer": "ipython3",
   "version": "3.10.9"
  }
 },
 "nbformat": 4,
 "nbformat_minor": 5
}
